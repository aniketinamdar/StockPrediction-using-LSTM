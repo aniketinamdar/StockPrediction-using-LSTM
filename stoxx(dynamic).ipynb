{
  "nbformat": 4,
  "nbformat_minor": 0,
  "metadata": {
    "colab": {
      "provenance": [],
      "authorship_tag": "ABX9TyPz/ZjNVGbX8YGOn6AaI3li",
      "include_colab_link": true
    },
    "kernelspec": {
      "name": "python3",
      "display_name": "Python 3"
    },
    "language_info": {
      "name": "python"
    },
    "accelerator": "GPU",
    "gpuClass": "standard"
  },
  "cells": [
    {
      "cell_type": "markdown",
      "metadata": {
        "id": "view-in-github",
        "colab_type": "text"
      },
      "source": [
        "<a href=\"https://colab.research.google.com/github/aniketinamdar/StockPrediction-using-LSTM/blob/main/stoxx(dynamic).ipynb\" target=\"_parent\"><img src=\"https://colab.research.google.com/assets/colab-badge.svg\" alt=\"Open In Colab\"/></a>"
      ]
    },
    {
      "cell_type": "markdown",
      "source": [
        "##Installing dependencies"
      ],
      "metadata": {
        "id": "mTV7mjlINWaD"
      }
    },
    {
      "cell_type": "code",
      "source": [
        "!pip install yfinance"
      ],
      "metadata": {
        "colab": {
          "base_uri": "https://localhost:8080/"
        },
        "id": "Xpu7MFqJLM_p",
        "outputId": "242ed99e-87ad-45dd-c0cf-d122231aa2f3"
      },
      "execution_count": null,
      "outputs": [
        {
          "output_type": "stream",
          "name": "stdout",
          "text": [
            "Looking in indexes: https://pypi.org/simple, https://us-python.pkg.dev/colab-wheels/public/simple/\n",
            "Collecting yfinance\n",
            "  Downloading yfinance-0.1.87-py2.py3-none-any.whl (29 kB)\n",
            "Requirement already satisfied: numpy>=1.15 in /usr/local/lib/python3.7/dist-packages (from yfinance) (1.21.6)\n",
            "Requirement already satisfied: lxml>=4.5.1 in /usr/local/lib/python3.7/dist-packages (from yfinance) (4.9.1)\n",
            "Requirement already satisfied: pandas>=0.24.0 in /usr/local/lib/python3.7/dist-packages (from yfinance) (1.3.5)\n",
            "Requirement already satisfied: appdirs>=1.4.4 in /usr/local/lib/python3.7/dist-packages (from yfinance) (1.4.4)\n",
            "Collecting requests>=2.26\n",
            "  Downloading requests-2.28.1-py3-none-any.whl (62 kB)\n",
            "\u001b[K     |████████████████████████████████| 62 kB 1.7 MB/s \n",
            "\u001b[?25hRequirement already satisfied: multitasking>=0.0.7 in /usr/local/lib/python3.7/dist-packages (from yfinance) (0.0.11)\n",
            "Requirement already satisfied: pytz>=2017.3 in /usr/local/lib/python3.7/dist-packages (from pandas>=0.24.0->yfinance) (2022.6)\n",
            "Requirement already satisfied: python-dateutil>=2.7.3 in /usr/local/lib/python3.7/dist-packages (from pandas>=0.24.0->yfinance) (2.8.2)\n",
            "Requirement already satisfied: six>=1.5 in /usr/local/lib/python3.7/dist-packages (from python-dateutil>=2.7.3->pandas>=0.24.0->yfinance) (1.15.0)\n",
            "Requirement already satisfied: idna<4,>=2.5 in /usr/local/lib/python3.7/dist-packages (from requests>=2.26->yfinance) (2.10)\n",
            "Requirement already satisfied: urllib3<1.27,>=1.21.1 in /usr/local/lib/python3.7/dist-packages (from requests>=2.26->yfinance) (1.24.3)\n",
            "Requirement already satisfied: certifi>=2017.4.17 in /usr/local/lib/python3.7/dist-packages (from requests>=2.26->yfinance) (2022.9.24)\n",
            "Requirement already satisfied: charset-normalizer<3,>=2 in /usr/local/lib/python3.7/dist-packages (from requests>=2.26->yfinance) (2.1.1)\n",
            "Installing collected packages: requests, yfinance\n",
            "  Attempting uninstall: requests\n",
            "    Found existing installation: requests 2.23.0\n",
            "    Uninstalling requests-2.23.0:\n",
            "      Successfully uninstalled requests-2.23.0\n",
            "Successfully installed requests-2.28.1 yfinance-0.1.87\n"
          ]
        }
      ]
    },
    {
      "cell_type": "markdown",
      "source": [
        "##Importing dependencies"
      ],
      "metadata": {
        "id": "h_c8dTcfNZl1"
      }
    },
    {
      "cell_type": "code",
      "execution_count": null,
      "metadata": {
        "id": "hrhHfbXiKUuX"
      },
      "outputs": [],
      "source": [
        "import yfinance as yf"
      ]
    },
    {
      "cell_type": "code",
      "source": [
        "import matplotlib.pyplot as plt"
      ],
      "metadata": {
        "id": "REYlAtRGMH8D"
      },
      "execution_count": null,
      "outputs": []
    },
    {
      "cell_type": "code",
      "source": [
        "import numpy as np"
      ],
      "metadata": {
        "id": "uNaJimH7MatT"
      },
      "execution_count": null,
      "outputs": []
    },
    {
      "cell_type": "code",
      "source": [
        "from sklearn.preprocessing import MinMaxScaler"
      ],
      "metadata": {
        "id": "qj8a0eiJMcnu"
      },
      "execution_count": null,
      "outputs": []
    },
    {
      "cell_type": "code",
      "source": [
        "from keras.models import Sequential\n",
        "from keras.layers import Dense, LSTM"
      ],
      "metadata": {
        "id": "wmxRziucOYlc"
      },
      "execution_count": null,
      "outputs": []
    },
    {
      "cell_type": "markdown",
      "source": [
        "##Loading data from yfinance"
      ],
      "metadata": {
        "id": "pwaweVOYRAA-"
      }
    },
    {
      "cell_type": "code",
      "source": [
        "stox_symb = \"AAPL\""
      ],
      "metadata": {
        "id": "sgvD1layKv7m"
      },
      "execution_count": null,
      "outputs": []
    },
    {
      "cell_type": "code",
      "source": [
        "data = yf.download(tickers=stox_symb,period=\"5y\",interval=\"1d\")"
      ],
      "metadata": {
        "colab": {
          "base_uri": "https://localhost:8080/"
        },
        "id": "U2-NsjaALhxI",
        "outputId": "a1bd095e-115c-407d-94af-3dbbf1e902f5"
      },
      "execution_count": null,
      "outputs": [
        {
          "output_type": "stream",
          "name": "stdout",
          "text": [
            "\r[*********************100%***********************]  1 of 1 completed\n"
          ]
        }
      ]
    },
    {
      "cell_type": "code",
      "source": [
        "type(data)"
      ],
      "metadata": {
        "colab": {
          "base_uri": "https://localhost:8080/"
        },
        "id": "K8IF1iFHLt1d",
        "outputId": "bdd07d83-d7fa-4afe-8aac-b64d54a62869"
      },
      "execution_count": null,
      "outputs": [
        {
          "output_type": "execute_result",
          "data": {
            "text/plain": [
              "pandas.core.frame.DataFrame"
            ]
          },
          "metadata": {},
          "execution_count": 9
        }
      ]
    },
    {
      "cell_type": "code",
      "source": [
        "data.head()"
      ],
      "metadata": {
        "colab": {
          "base_uri": "https://localhost:8080/",
          "height": 237
        },
        "id": "eX8HWmD_LwVe",
        "outputId": "1e8434d5-eb9d-4702-d765-453a143a26a3"
      },
      "execution_count": null,
      "outputs": [
        {
          "output_type": "execute_result",
          "data": {
            "text/plain": [
              "                 Open       High        Low      Close  Adj Close     Volume\n",
              "Date                                                                        \n",
              "2017-11-17  42.759998  42.847500  42.410000  42.537498  40.448906   87598000\n",
              "2017-11-20  42.572498  42.639999  42.389999  42.494999  40.408474   65049600\n",
              "2017-11-21  42.695000  43.424999  42.695000  43.285000  41.159691  100525200\n",
              "2017-11-22  43.340000  43.750000  43.262501  43.740002  41.592354  102355600\n",
              "2017-11-24  43.775002  43.875000  43.662498  43.742500  41.594727   56106800"
            ],
            "text/html": [
              "\n",
              "  <div id=\"df-1f66a918-f7db-497f-b607-f6f3325deb17\">\n",
              "    <div class=\"colab-df-container\">\n",
              "      <div>\n",
              "<style scoped>\n",
              "    .dataframe tbody tr th:only-of-type {\n",
              "        vertical-align: middle;\n",
              "    }\n",
              "\n",
              "    .dataframe tbody tr th {\n",
              "        vertical-align: top;\n",
              "    }\n",
              "\n",
              "    .dataframe thead th {\n",
              "        text-align: right;\n",
              "    }\n",
              "</style>\n",
              "<table border=\"1\" class=\"dataframe\">\n",
              "  <thead>\n",
              "    <tr style=\"text-align: right;\">\n",
              "      <th></th>\n",
              "      <th>Open</th>\n",
              "      <th>High</th>\n",
              "      <th>Low</th>\n",
              "      <th>Close</th>\n",
              "      <th>Adj Close</th>\n",
              "      <th>Volume</th>\n",
              "    </tr>\n",
              "    <tr>\n",
              "      <th>Date</th>\n",
              "      <th></th>\n",
              "      <th></th>\n",
              "      <th></th>\n",
              "      <th></th>\n",
              "      <th></th>\n",
              "      <th></th>\n",
              "    </tr>\n",
              "  </thead>\n",
              "  <tbody>\n",
              "    <tr>\n",
              "      <th>2017-11-17</th>\n",
              "      <td>42.759998</td>\n",
              "      <td>42.847500</td>\n",
              "      <td>42.410000</td>\n",
              "      <td>42.537498</td>\n",
              "      <td>40.448906</td>\n",
              "      <td>87598000</td>\n",
              "    </tr>\n",
              "    <tr>\n",
              "      <th>2017-11-20</th>\n",
              "      <td>42.572498</td>\n",
              "      <td>42.639999</td>\n",
              "      <td>42.389999</td>\n",
              "      <td>42.494999</td>\n",
              "      <td>40.408474</td>\n",
              "      <td>65049600</td>\n",
              "    </tr>\n",
              "    <tr>\n",
              "      <th>2017-11-21</th>\n",
              "      <td>42.695000</td>\n",
              "      <td>43.424999</td>\n",
              "      <td>42.695000</td>\n",
              "      <td>43.285000</td>\n",
              "      <td>41.159691</td>\n",
              "      <td>100525200</td>\n",
              "    </tr>\n",
              "    <tr>\n",
              "      <th>2017-11-22</th>\n",
              "      <td>43.340000</td>\n",
              "      <td>43.750000</td>\n",
              "      <td>43.262501</td>\n",
              "      <td>43.740002</td>\n",
              "      <td>41.592354</td>\n",
              "      <td>102355600</td>\n",
              "    </tr>\n",
              "    <tr>\n",
              "      <th>2017-11-24</th>\n",
              "      <td>43.775002</td>\n",
              "      <td>43.875000</td>\n",
              "      <td>43.662498</td>\n",
              "      <td>43.742500</td>\n",
              "      <td>41.594727</td>\n",
              "      <td>56106800</td>\n",
              "    </tr>\n",
              "  </tbody>\n",
              "</table>\n",
              "</div>\n",
              "      <button class=\"colab-df-convert\" onclick=\"convertToInteractive('df-1f66a918-f7db-497f-b607-f6f3325deb17')\"\n",
              "              title=\"Convert this dataframe to an interactive table.\"\n",
              "              style=\"display:none;\">\n",
              "        \n",
              "  <svg xmlns=\"http://www.w3.org/2000/svg\" height=\"24px\"viewBox=\"0 0 24 24\"\n",
              "       width=\"24px\">\n",
              "    <path d=\"M0 0h24v24H0V0z\" fill=\"none\"/>\n",
              "    <path d=\"M18.56 5.44l.94 2.06.94-2.06 2.06-.94-2.06-.94-.94-2.06-.94 2.06-2.06.94zm-11 1L8.5 8.5l.94-2.06 2.06-.94-2.06-.94L8.5 2.5l-.94 2.06-2.06.94zm10 10l.94 2.06.94-2.06 2.06-.94-2.06-.94-.94-2.06-.94 2.06-2.06.94z\"/><path d=\"M17.41 7.96l-1.37-1.37c-.4-.4-.92-.59-1.43-.59-.52 0-1.04.2-1.43.59L10.3 9.45l-7.72 7.72c-.78.78-.78 2.05 0 2.83L4 21.41c.39.39.9.59 1.41.59.51 0 1.02-.2 1.41-.59l7.78-7.78 2.81-2.81c.8-.78.8-2.07 0-2.86zM5.41 20L4 18.59l7.72-7.72 1.47 1.35L5.41 20z\"/>\n",
              "  </svg>\n",
              "      </button>\n",
              "      \n",
              "  <style>\n",
              "    .colab-df-container {\n",
              "      display:flex;\n",
              "      flex-wrap:wrap;\n",
              "      gap: 12px;\n",
              "    }\n",
              "\n",
              "    .colab-df-convert {\n",
              "      background-color: #E8F0FE;\n",
              "      border: none;\n",
              "      border-radius: 50%;\n",
              "      cursor: pointer;\n",
              "      display: none;\n",
              "      fill: #1967D2;\n",
              "      height: 32px;\n",
              "      padding: 0 0 0 0;\n",
              "      width: 32px;\n",
              "    }\n",
              "\n",
              "    .colab-df-convert:hover {\n",
              "      background-color: #E2EBFA;\n",
              "      box-shadow: 0px 1px 2px rgba(60, 64, 67, 0.3), 0px 1px 3px 1px rgba(60, 64, 67, 0.15);\n",
              "      fill: #174EA6;\n",
              "    }\n",
              "\n",
              "    [theme=dark] .colab-df-convert {\n",
              "      background-color: #3B4455;\n",
              "      fill: #D2E3FC;\n",
              "    }\n",
              "\n",
              "    [theme=dark] .colab-df-convert:hover {\n",
              "      background-color: #434B5C;\n",
              "      box-shadow: 0px 1px 3px 1px rgba(0, 0, 0, 0.15);\n",
              "      filter: drop-shadow(0px 1px 2px rgba(0, 0, 0, 0.3));\n",
              "      fill: #FFFFFF;\n",
              "    }\n",
              "  </style>\n",
              "\n",
              "      <script>\n",
              "        const buttonEl =\n",
              "          document.querySelector('#df-1f66a918-f7db-497f-b607-f6f3325deb17 button.colab-df-convert');\n",
              "        buttonEl.style.display =\n",
              "          google.colab.kernel.accessAllowed ? 'block' : 'none';\n",
              "\n",
              "        async function convertToInteractive(key) {\n",
              "          const element = document.querySelector('#df-1f66a918-f7db-497f-b607-f6f3325deb17');\n",
              "          const dataTable =\n",
              "            await google.colab.kernel.invokeFunction('convertToInteractive',\n",
              "                                                     [key], {});\n",
              "          if (!dataTable) return;\n",
              "\n",
              "          const docLinkHtml = 'Like what you see? Visit the ' +\n",
              "            '<a target=\"_blank\" href=https://colab.research.google.com/notebooks/data_table.ipynb>data table notebook</a>'\n",
              "            + ' to learn more about interactive tables.';\n",
              "          element.innerHTML = '';\n",
              "          dataTable['output_type'] = 'display_data';\n",
              "          await google.colab.output.renderOutput(dataTable, element);\n",
              "          const docLink = document.createElement('div');\n",
              "          docLink.innerHTML = docLinkHtml;\n",
              "          element.appendChild(docLink);\n",
              "        }\n",
              "      </script>\n",
              "    </div>\n",
              "  </div>\n",
              "  "
            ]
          },
          "metadata": {},
          "execution_count": 10
        }
      ]
    },
    {
      "cell_type": "code",
      "source": [
        "len(data)"
      ],
      "metadata": {
        "colab": {
          "base_uri": "https://localhost:8080/"
        },
        "id": "rxbpXmlDLyYY",
        "outputId": "e4fdd6b0-ca23-43bb-819c-9dce312a22af"
      },
      "execution_count": null,
      "outputs": [
        {
          "output_type": "execute_result",
          "data": {
            "text/plain": [
              "1258"
            ]
          },
          "metadata": {},
          "execution_count": 11
        }
      ]
    },
    {
      "cell_type": "code",
      "source": [
        "data.tail()"
      ],
      "metadata": {
        "colab": {
          "base_uri": "https://localhost:8080/",
          "height": 237
        },
        "id": "49xWvoZlL64w",
        "outputId": "e3f7992f-6ac6-4d7c-b34c-6a6e7b734ecb"
      },
      "execution_count": null,
      "outputs": [
        {
          "output_type": "execute_result",
          "data": {
            "text/plain": [
              "                  Open        High         Low       Close   Adj Close  \\\n",
              "Date                                                                     \n",
              "2022-11-10  141.240005  146.869995  139.500000  146.869995  146.869995   \n",
              "2022-11-11  145.820007  150.009995  144.369995  149.699997  149.699997   \n",
              "2022-11-14  148.970001  150.279999  147.429993  148.279999  148.279999   \n",
              "2022-11-15  152.220001  153.589996  148.559998  150.039993  150.039993   \n",
              "2022-11-16  149.130005  149.869995  147.289993  148.789993  148.789993   \n",
              "\n",
              "               Volume  \n",
              "Date                   \n",
              "2022-11-10  118854000  \n",
              "2022-11-11   93903800  \n",
              "2022-11-14   73374100  \n",
              "2022-11-15   89868300  \n",
              "2022-11-16   64170900  "
            ],
            "text/html": [
              "\n",
              "  <div id=\"df-3c654de1-5cdf-472b-b4bc-ccbe15bc606b\">\n",
              "    <div class=\"colab-df-container\">\n",
              "      <div>\n",
              "<style scoped>\n",
              "    .dataframe tbody tr th:only-of-type {\n",
              "        vertical-align: middle;\n",
              "    }\n",
              "\n",
              "    .dataframe tbody tr th {\n",
              "        vertical-align: top;\n",
              "    }\n",
              "\n",
              "    .dataframe thead th {\n",
              "        text-align: right;\n",
              "    }\n",
              "</style>\n",
              "<table border=\"1\" class=\"dataframe\">\n",
              "  <thead>\n",
              "    <tr style=\"text-align: right;\">\n",
              "      <th></th>\n",
              "      <th>Open</th>\n",
              "      <th>High</th>\n",
              "      <th>Low</th>\n",
              "      <th>Close</th>\n",
              "      <th>Adj Close</th>\n",
              "      <th>Volume</th>\n",
              "    </tr>\n",
              "    <tr>\n",
              "      <th>Date</th>\n",
              "      <th></th>\n",
              "      <th></th>\n",
              "      <th></th>\n",
              "      <th></th>\n",
              "      <th></th>\n",
              "      <th></th>\n",
              "    </tr>\n",
              "  </thead>\n",
              "  <tbody>\n",
              "    <tr>\n",
              "      <th>2022-11-10</th>\n",
              "      <td>141.240005</td>\n",
              "      <td>146.869995</td>\n",
              "      <td>139.500000</td>\n",
              "      <td>146.869995</td>\n",
              "      <td>146.869995</td>\n",
              "      <td>118854000</td>\n",
              "    </tr>\n",
              "    <tr>\n",
              "      <th>2022-11-11</th>\n",
              "      <td>145.820007</td>\n",
              "      <td>150.009995</td>\n",
              "      <td>144.369995</td>\n",
              "      <td>149.699997</td>\n",
              "      <td>149.699997</td>\n",
              "      <td>93903800</td>\n",
              "    </tr>\n",
              "    <tr>\n",
              "      <th>2022-11-14</th>\n",
              "      <td>148.970001</td>\n",
              "      <td>150.279999</td>\n",
              "      <td>147.429993</td>\n",
              "      <td>148.279999</td>\n",
              "      <td>148.279999</td>\n",
              "      <td>73374100</td>\n",
              "    </tr>\n",
              "    <tr>\n",
              "      <th>2022-11-15</th>\n",
              "      <td>152.220001</td>\n",
              "      <td>153.589996</td>\n",
              "      <td>148.559998</td>\n",
              "      <td>150.039993</td>\n",
              "      <td>150.039993</td>\n",
              "      <td>89868300</td>\n",
              "    </tr>\n",
              "    <tr>\n",
              "      <th>2022-11-16</th>\n",
              "      <td>149.130005</td>\n",
              "      <td>149.869995</td>\n",
              "      <td>147.289993</td>\n",
              "      <td>148.789993</td>\n",
              "      <td>148.789993</td>\n",
              "      <td>64170900</td>\n",
              "    </tr>\n",
              "  </tbody>\n",
              "</table>\n",
              "</div>\n",
              "      <button class=\"colab-df-convert\" onclick=\"convertToInteractive('df-3c654de1-5cdf-472b-b4bc-ccbe15bc606b')\"\n",
              "              title=\"Convert this dataframe to an interactive table.\"\n",
              "              style=\"display:none;\">\n",
              "        \n",
              "  <svg xmlns=\"http://www.w3.org/2000/svg\" height=\"24px\"viewBox=\"0 0 24 24\"\n",
              "       width=\"24px\">\n",
              "    <path d=\"M0 0h24v24H0V0z\" fill=\"none\"/>\n",
              "    <path d=\"M18.56 5.44l.94 2.06.94-2.06 2.06-.94-2.06-.94-.94-2.06-.94 2.06-2.06.94zm-11 1L8.5 8.5l.94-2.06 2.06-.94-2.06-.94L8.5 2.5l-.94 2.06-2.06.94zm10 10l.94 2.06.94-2.06 2.06-.94-2.06-.94-.94-2.06-.94 2.06-2.06.94z\"/><path d=\"M17.41 7.96l-1.37-1.37c-.4-.4-.92-.59-1.43-.59-.52 0-1.04.2-1.43.59L10.3 9.45l-7.72 7.72c-.78.78-.78 2.05 0 2.83L4 21.41c.39.39.9.59 1.41.59.51 0 1.02-.2 1.41-.59l7.78-7.78 2.81-2.81c.8-.78.8-2.07 0-2.86zM5.41 20L4 18.59l7.72-7.72 1.47 1.35L5.41 20z\"/>\n",
              "  </svg>\n",
              "      </button>\n",
              "      \n",
              "  <style>\n",
              "    .colab-df-container {\n",
              "      display:flex;\n",
              "      flex-wrap:wrap;\n",
              "      gap: 12px;\n",
              "    }\n",
              "\n",
              "    .colab-df-convert {\n",
              "      background-color: #E8F0FE;\n",
              "      border: none;\n",
              "      border-radius: 50%;\n",
              "      cursor: pointer;\n",
              "      display: none;\n",
              "      fill: #1967D2;\n",
              "      height: 32px;\n",
              "      padding: 0 0 0 0;\n",
              "      width: 32px;\n",
              "    }\n",
              "\n",
              "    .colab-df-convert:hover {\n",
              "      background-color: #E2EBFA;\n",
              "      box-shadow: 0px 1px 2px rgba(60, 64, 67, 0.3), 0px 1px 3px 1px rgba(60, 64, 67, 0.15);\n",
              "      fill: #174EA6;\n",
              "    }\n",
              "\n",
              "    [theme=dark] .colab-df-convert {\n",
              "      background-color: #3B4455;\n",
              "      fill: #D2E3FC;\n",
              "    }\n",
              "\n",
              "    [theme=dark] .colab-df-convert:hover {\n",
              "      background-color: #434B5C;\n",
              "      box-shadow: 0px 1px 3px 1px rgba(0, 0, 0, 0.15);\n",
              "      filter: drop-shadow(0px 1px 2px rgba(0, 0, 0, 0.3));\n",
              "      fill: #FFFFFF;\n",
              "    }\n",
              "  </style>\n",
              "\n",
              "      <script>\n",
              "        const buttonEl =\n",
              "          document.querySelector('#df-3c654de1-5cdf-472b-b4bc-ccbe15bc606b button.colab-df-convert');\n",
              "        buttonEl.style.display =\n",
              "          google.colab.kernel.accessAllowed ? 'block' : 'none';\n",
              "\n",
              "        async function convertToInteractive(key) {\n",
              "          const element = document.querySelector('#df-3c654de1-5cdf-472b-b4bc-ccbe15bc606b');\n",
              "          const dataTable =\n",
              "            await google.colab.kernel.invokeFunction('convertToInteractive',\n",
              "                                                     [key], {});\n",
              "          if (!dataTable) return;\n",
              "\n",
              "          const docLinkHtml = 'Like what you see? Visit the ' +\n",
              "            '<a target=\"_blank\" href=https://colab.research.google.com/notebooks/data_table.ipynb>data table notebook</a>'\n",
              "            + ' to learn more about interactive tables.';\n",
              "          element.innerHTML = '';\n",
              "          dataTable['output_type'] = 'display_data';\n",
              "          await google.colab.output.renderOutput(dataTable, element);\n",
              "          const docLink = document.createElement('div');\n",
              "          docLink.innerHTML = docLinkHtml;\n",
              "          element.appendChild(docLink);\n",
              "        }\n",
              "      </script>\n",
              "    </div>\n",
              "  </div>\n",
              "  "
            ]
          },
          "metadata": {},
          "execution_count": 12
        }
      ]
    },
    {
      "cell_type": "code",
      "source": [
        "opn=data[['Open']]"
      ],
      "metadata": {
        "id": "UgOSfANYL2Hi"
      },
      "execution_count": null,
      "outputs": []
    },
    {
      "cell_type": "code",
      "source": [
        "opn.plot()"
      ],
      "metadata": {
        "colab": {
          "base_uri": "https://localhost:8080/",
          "height": 286
        },
        "id": "013NEboKMBCz",
        "outputId": "7d4c3731-35cf-4730-b554-ae7e15390df0"
      },
      "execution_count": null,
      "outputs": [
        {
          "output_type": "execute_result",
          "data": {
            "text/plain": [
              "<matplotlib.axes._subplots.AxesSubplot at 0x7f59c157b910>"
            ]
          },
          "metadata": {},
          "execution_count": 14
        },
        {
          "output_type": "display_data",
          "data": {
            "text/plain": [
              "<Figure size 432x288 with 1 Axes>"
            ],
            "image/png": "[encoded data removed]"
          },
          "metadata": {
            "needs_background": "light"
          }
        }
      ]
    },
    {
      "cell_type": "code",
      "source": [
        "ds = opn.values"
      ],
      "metadata": {
        "id": "_V6bJUoaMCtE"
      },
      "execution_count": null,
      "outputs": []
    },
    {
      "cell_type": "code",
      "source": [
        "ds"
      ],
      "metadata": {
        "colab": {
          "base_uri": "https://localhost:8080/"
        },
        "id": "KkoV9_UdMO6F",
        "outputId": "f2a58813-6940-4dd5-c0f0-8c92bc1a4c5a"
      },
      "execution_count": null,
      "outputs": [
        {
          "output_type": "execute_result",
          "data": {
            "text/plain": [
              "array([[ 42.75999832],\n",
              "       [ 42.57249832],\n",
              "       [ 42.69499969],\n",
              "       ...,\n",
              "       [148.97000122],\n",
              "       [152.22000122],\n",
              "       [149.13000488]])"
            ]
          },
          "metadata": {},
          "execution_count": 16
        }
      ]
    },
    {
      "cell_type": "code",
      "source": [
        "plt.plot(ds)"
      ],
      "metadata": {
        "colab": {
          "base_uri": "https://localhost:8080/",
          "height": 282
        },
        "id": "D-E44ZkVMQi1",
        "outputId": "e5f0650f-cf3e-4fd9-8902-48d231808fe3"
      },
      "execution_count": null,
      "outputs": [
        {
          "output_type": "execute_result",
          "data": {
            "text/plain": [
              "[<matplotlib.lines.Line2D at 0x7f59c1020650>]"
            ]
          },
          "metadata": {},
          "execution_count": 17
        },
        {
          "output_type": "display_data",
          "data": {
            "text/plain": [
              "<Figure size 432x288 with 1 Axes>"
            ],
            "image/png": "[encoded data removed]"
          },
          "metadata": {
            "needs_background": "light"
          }
        }
      ]
    },
    {
      "cell_type": "markdown",
      "source": [
        "##Using min max scaler for normalizing"
      ],
      "metadata": {
        "id": "2DhaDDnxMmBB"
      }
    },
    {
      "cell_type": "code",
      "source": [
        "normalizer = MinMaxScaler(feature_range=(0,1))\n",
        "ds_scaled = normalizer.fit_transform(np.array(ds).reshape(-1,1))"
      ],
      "metadata": {
        "id": "asmWQWb6MVHu"
      },
      "execution_count": null,
      "outputs": []
    },
    {
      "cell_type": "code",
      "source": [
        "len(ds_scaled),len(ds)"
      ],
      "metadata": {
        "colab": {
          "base_uri": "https://localhost:8080/"
        },
        "id": "4x7Oa5ECM_ug",
        "outputId": "5905867d-7e80-4288-d64f-a4a3eff6658f"
      },
      "execution_count": null,
      "outputs": [
        {
          "output_type": "execute_result",
          "data": {
            "text/plain": [
              "(1258, 1258)"
            ]
          },
          "metadata": {},
          "execution_count": 19
        }
      ]
    },
    {
      "cell_type": "code",
      "source": [
        "train_size = int(len(ds_scaled)*0.7)\n",
        "test_size = len(ds_scaled) - train_size"
      ],
      "metadata": {
        "id": "y32WSnj-NEAu"
      },
      "execution_count": null,
      "outputs": []
    },
    {
      "cell_type": "code",
      "source": [
        "train_size,test_size"
      ],
      "metadata": {
        "colab": {
          "base_uri": "https://localhost:8080/"
        },
        "id": "BGxMCqf4NS9C",
        "outputId": "3f62b5d8-3438-4d6c-c055-dbadf23d46c0"
      },
      "execution_count": null,
      "outputs": [
        {
          "output_type": "execute_result",
          "data": {
            "text/plain": [
              "(880, 378)"
            ]
          },
          "metadata": {},
          "execution_count": 21
        }
      ]
    },
    {
      "cell_type": "code",
      "source": [
        "ds_train,ds_test=ds_scaled[0:train_size,:],ds_scaled[train_size:len(ds_scaled),:1]"
      ],
      "metadata": {
        "id": "FVO4vRKwNh_o"
      },
      "execution_count": null,
      "outputs": []
    },
    {
      "cell_type": "code",
      "source": [
        "len(ds_train),len(ds_test)"
      ],
      "metadata": {
        "colab": {
          "base_uri": "https://localhost:8080/"
        },
        "id": "_RL-ZtryN2r5",
        "outputId": "87404724-0936-4295-f74d-c4fc8079c930"
      },
      "execution_count": null,
      "outputs": [
        {
          "output_type": "execute_result",
          "data": {
            "text/plain": [
              "(880, 378)"
            ]
          },
          "metadata": {},
          "execution_count": 23
        }
      ]
    },
    {
      "cell_type": "code",
      "source": [
        "def create_ds(dataset,step):\n",
        "    Xtrain, Ytrain = [], []\n",
        "    for i in range(len(dataset)-step-1):\n",
        "        a = dataset[i:(i+step), 0]\n",
        "        Xtrain.append(a)\n",
        "        Ytrain.append(dataset[i + step, 0])\n",
        "    return np.array(Xtrain), np.array(Ytrain)"
      ],
      "metadata": {
        "id": "DkpmZhB5N8pp"
      },
      "execution_count": null,
      "outputs": []
    },
    {
      "cell_type": "code",
      "source": [
        "\n",
        "time_stamp = 100\n",
        "X_train, y_train = create_ds(ds_train,time_stamp)\n",
        "X_test, y_test = create_ds(ds_test,time_stamp)"
      ],
      "metadata": {
        "id": "XFsgQiM9OIUv"
      },
      "execution_count": null,
      "outputs": []
    },
    {
      "cell_type": "code",
      "source": [
        "X_train.shape,y_train.shape"
      ],
      "metadata": {
        "colab": {
          "base_uri": "https://localhost:8080/"
        },
        "id": "iQ7jDeNKOK2u",
        "outputId": "11d80a95-656d-47a5-9603-5ff6f9d46d97"
      },
      "execution_count": null,
      "outputs": [
        {
          "output_type": "execute_result",
          "data": {
            "text/plain": [
              "((779, 100), (779,))"
            ]
          },
          "metadata": {},
          "execution_count": 26
        }
      ]
    },
    {
      "cell_type": "code",
      "source": [
        "X_test.shape, y_test.shape"
      ],
      "metadata": {
        "colab": {
          "base_uri": "https://localhost:8080/"
        },
        "id": "O7FCX_6HONWX",
        "outputId": "07baf8d6-4fc4-4c0b-a7cb-d9500b5e8b79"
      },
      "execution_count": null,
      "outputs": [
        {
          "output_type": "execute_result",
          "data": {
            "text/plain": [
              "((277, 100), (277,))"
            ]
          },
          "metadata": {},
          "execution_count": 27
        }
      ]
    },
    {
      "cell_type": "markdown",
      "source": [
        "##Reshaping data to fit into LSTM model"
      ],
      "metadata": {
        "id": "1r6NYPL7OWB8"
      }
    },
    {
      "cell_type": "code",
      "source": [
        "X_train = X_train.reshape(X_train.shape[0],X_train.shape[1] , 1)\n",
        "X_test = X_test.reshape(X_test.shape[0],X_test.shape[1] , 1)"
      ],
      "metadata": {
        "id": "xoH4mXP8OPIM"
      },
      "execution_count": null,
      "outputs": []
    },
    {
      "cell_type": "code",
      "source": [
        "model = Sequential()\n",
        "model.add(LSTM(units=50,return_sequences=True,input_shape=(X_train.shape[1],1)))\n",
        "model.add(LSTM(units=50,return_sequences=True))\n",
        "model.add(LSTM(units=50))\n",
        "model.add(Dense(units=1,activation='linear'))\n",
        "model.summary()"
      ],
      "metadata": {
        "colab": {
          "base_uri": "https://localhost:8080/"
        },
        "id": "mCihrYJnOUOW",
        "outputId": "9751ae21-7c8a-494b-f62c-ed96ea577837"
      },
      "execution_count": null,
      "outputs": [
        {
          "output_type": "stream",
          "name": "stdout",
          "text": [
            "Model: \"sequential\"\n",
            "_________________________________________________________________\n",
            " Layer (type)                Output Shape              Param #   \n",
            "=================================================================\n",
            " lstm (LSTM)                 (None, 100, 50)           10400     \n",
            "                                                                 \n",
            " lstm_1 (LSTM)               (None, 100, 50)           20200     \n",
            "                                                                 \n",
            " lstm_2 (LSTM)               (None, 50)                20200     \n",
            "                                                                 \n",
            " dense (Dense)               (None, 1)                 51        \n",
            "                                                                 \n",
            "=================================================================\n",
            "Total params: 50,851\n",
            "Trainable params: 50,851\n",
            "Non-trainable params: 0\n",
            "_________________________________________________________________\n"
          ]
        }
      ]
    },
    {
      "cell_type": "markdown",
      "source": [
        "##Training model with adam optimizer and mean squared error loss fun"
      ],
      "metadata": {
        "id": "sdQjAVxGOlpC"
      }
    },
    {
      "cell_type": "code",
      "source": [
        "model.compile(loss='mean_squared_error',optimizer='adam')\n",
        "model.fit(X_train,y_train,validation_data=(X_test,y_test),epochs=100,batch_size=64)"
      ],
      "metadata": {
        "colab": {
          "base_uri": "https://localhost:8080/"
        },
        "id": "12YW37OAOgL2",
        "outputId": "bf6bce1f-d7b3-42fa-8bae-8b854b223bc9"
      },
      "execution_count": null,
      "outputs": [
        {
          "output_type": "stream",
          "name": "stdout",
          "text": [
            "Epoch 1/100\n",
            "13/13 [==============================] - 10s 112ms/step - loss: 0.0323 - val_loss: 0.0774\n",
            "Epoch 2/100\n",
            "13/13 [==============================] - 0s 22ms/step - loss: 0.0059 - val_loss: 0.0054\n",
            "Epoch 3/100\n",
            "13/13 [==============================] - 0s 20ms/step - loss: 0.0016 - val_loss: 0.0044\n",
            "Epoch 4/100\n",
            "13/13 [==============================] - 0s 21ms/step - loss: 0.0014 - val_loss: 0.0053\n",
            "Epoch 5/100\n",
            "13/13 [==============================] - 0s 23ms/step - loss: 0.0012 - val_loss: 0.0053\n",
            "Epoch 6/100\n",
            "13/13 [==============================] - 0s 21ms/step - loss: 0.0012 - val_loss: 0.0065\n",
            "Epoch 7/100\n",
            "13/13 [==============================] - 0s 21ms/step - loss: 0.0011 - val_loss: 0.0053\n",
            "Epoch 8/100\n",
            "13/13 [==============================] - 0s 21ms/step - loss: 0.0011 - val_loss: 0.0045\n",
            "Epoch 9/100\n",
            "13/13 [==============================] - 0s 22ms/step - loss: 0.0010 - val_loss: 0.0040\n",
            "Epoch 10/100\n",
            "13/13 [==============================] - 0s 21ms/step - loss: 0.0010 - val_loss: 0.0047\n",
            "Epoch 11/100\n",
            "13/13 [==============================] - 0s 21ms/step - loss: 9.9871e-04 - val_loss: 0.0042\n",
            "Epoch 12/100\n",
            "13/13 [==============================] - 0s 20ms/step - loss: 9.9653e-04 - val_loss: 0.0046\n",
            "Epoch 13/100\n",
            "13/13 [==============================] - 0s 21ms/step - loss: 9.8711e-04 - val_loss: 0.0062\n",
            "Epoch 14/100\n",
            "13/13 [==============================] - 0s 21ms/step - loss: 9.7436e-04 - val_loss: 0.0060\n",
            "Epoch 15/100\n",
            "13/13 [==============================] - 0s 21ms/step - loss: 9.6442e-04 - val_loss: 0.0038\n",
            "Epoch 16/100\n",
            "13/13 [==============================] - 0s 22ms/step - loss: 9.3268e-04 - val_loss: 0.0049\n",
            "Epoch 17/100\n",
            "13/13 [==============================] - 0s 20ms/step - loss: 8.8169e-04 - val_loss: 0.0062\n",
            "Epoch 18/100\n",
            "13/13 [==============================] - 0s 21ms/step - loss: 9.0271e-04 - val_loss: 0.0033\n",
            "Epoch 19/100\n",
            "13/13 [==============================] - 0s 21ms/step - loss: 8.3987e-04 - val_loss: 0.0066\n",
            "Epoch 20/100\n",
            "13/13 [==============================] - 0s 21ms/step - loss: 8.1007e-04 - val_loss: 0.0040\n",
            "Epoch 21/100\n",
            "13/13 [==============================] - 0s 20ms/step - loss: 8.0986e-04 - val_loss: 0.0066\n",
            "Epoch 22/100\n",
            "13/13 [==============================] - 0s 20ms/step - loss: 7.7560e-04 - val_loss: 0.0049\n",
            "Epoch 23/100\n",
            "13/13 [==============================] - 0s 20ms/step - loss: 8.1649e-04 - val_loss: 0.0065\n",
            "Epoch 24/100\n",
            "13/13 [==============================] - 0s 21ms/step - loss: 8.1012e-04 - val_loss: 0.0029\n",
            "Epoch 25/100\n",
            "13/13 [==============================] - 0s 23ms/step - loss: 8.3897e-04 - val_loss: 0.0031\n",
            "Epoch 26/100\n",
            "13/13 [==============================] - 0s 21ms/step - loss: 7.7406e-04 - val_loss: 0.0046\n",
            "Epoch 27/100\n",
            "13/13 [==============================] - 0s 21ms/step - loss: 7.6719e-04 - val_loss: 0.0039\n",
            "Epoch 28/100\n",
            "13/13 [==============================] - 0s 21ms/step - loss: 6.8734e-04 - val_loss: 0.0047\n",
            "Epoch 29/100\n",
            "13/13 [==============================] - 0s 20ms/step - loss: 6.5420e-04 - val_loss: 0.0083\n",
            "Epoch 30/100\n",
            "13/13 [==============================] - 0s 21ms/step - loss: 6.8711e-04 - val_loss: 0.0075\n",
            "Epoch 31/100\n",
            "13/13 [==============================] - 0s 21ms/step - loss: 8.3955e-04 - val_loss: 0.0025\n",
            "Epoch 32/100\n",
            "13/13 [==============================] - 0s 20ms/step - loss: 7.6412e-04 - val_loss: 0.0058\n",
            "Epoch 33/100\n",
            "13/13 [==============================] - 0s 21ms/step - loss: 5.9549e-04 - val_loss: 0.0060\n",
            "Epoch 34/100\n",
            "13/13 [==============================] - 0s 21ms/step - loss: 6.5131e-04 - val_loss: 0.0046\n",
            "Epoch 35/100\n",
            "13/13 [==============================] - 0s 22ms/step - loss: 6.1425e-04 - val_loss: 0.0054\n",
            "Epoch 36/100\n",
            "13/13 [==============================] - 0s 20ms/step - loss: 6.2304e-04 - val_loss: 0.0038\n",
            "Epoch 37/100\n",
            "13/13 [==============================] - 0s 20ms/step - loss: 6.3251e-04 - val_loss: 0.0051\n",
            "Epoch 38/100\n",
            "13/13 [==============================] - 0s 21ms/step - loss: 5.9638e-04 - val_loss: 0.0076\n",
            "Epoch 39/100\n",
            "13/13 [==============================] - 0s 23ms/step - loss: 6.9447e-04 - val_loss: 0.0022\n",
            "Epoch 40/100\n",
            "13/13 [==============================] - 0s 21ms/step - loss: 6.6329e-04 - val_loss: 0.0076\n",
            "Epoch 41/100\n",
            "13/13 [==============================] - 0s 21ms/step - loss: 6.1794e-04 - val_loss: 0.0040\n",
            "Epoch 42/100\n",
            "13/13 [==============================] - 0s 21ms/step - loss: 5.5177e-04 - val_loss: 0.0050\n",
            "Epoch 43/100\n",
            "13/13 [==============================] - 0s 20ms/step - loss: 5.7101e-04 - val_loss: 0.0019\n",
            "Epoch 44/100\n",
            "13/13 [==============================] - 0s 21ms/step - loss: 6.5655e-04 - val_loss: 0.0044\n",
            "Epoch 45/100\n",
            "13/13 [==============================] - 0s 21ms/step - loss: 5.1439e-04 - val_loss: 0.0029\n",
            "Epoch 46/100\n",
            "13/13 [==============================] - 0s 22ms/step - loss: 4.9788e-04 - val_loss: 0.0043\n",
            "Epoch 47/100\n",
            "13/13 [==============================] - 0s 20ms/step - loss: 4.8667e-04 - val_loss: 0.0027\n",
            "Epoch 48/100\n",
            "13/13 [==============================] - 0s 21ms/step - loss: 5.3659e-04 - val_loss: 0.0027\n",
            "Epoch 49/100\n",
            "13/13 [==============================] - 0s 21ms/step - loss: 5.1362e-04 - val_loss: 0.0022\n",
            "Epoch 50/100\n",
            "13/13 [==============================] - 0s 23ms/step - loss: 5.2933e-04 - val_loss: 0.0039\n",
            "Epoch 51/100\n",
            "13/13 [==============================] - 0s 20ms/step - loss: 4.7071e-04 - val_loss: 0.0043\n",
            "Epoch 52/100\n",
            "13/13 [==============================] - 0s 20ms/step - loss: 4.5926e-04 - val_loss: 0.0050\n",
            "Epoch 53/100\n",
            "13/13 [==============================] - 0s 20ms/step - loss: 4.7926e-04 - val_loss: 0.0036\n",
            "Epoch 54/100\n",
            "13/13 [==============================] - 0s 21ms/step - loss: 4.7863e-04 - val_loss: 0.0024\n",
            "Epoch 55/100\n",
            "13/13 [==============================] - 0s 22ms/step - loss: 4.9891e-04 - val_loss: 0.0037\n",
            "Epoch 56/100\n",
            "13/13 [==============================] - 0s 21ms/step - loss: 4.4771e-04 - val_loss: 0.0040\n",
            "Epoch 57/100\n",
            "13/13 [==============================] - 0s 21ms/step - loss: 4.5729e-04 - val_loss: 0.0020\n",
            "Epoch 58/100\n",
            "13/13 [==============================] - 0s 20ms/step - loss: 4.4989e-04 - val_loss: 0.0023\n",
            "Epoch 59/100\n",
            "13/13 [==============================] - 0s 21ms/step - loss: 4.5284e-04 - val_loss: 0.0017\n",
            "Epoch 60/100\n",
            "13/13 [==============================] - 0s 20ms/step - loss: 5.0250e-04 - val_loss: 0.0036\n",
            "Epoch 61/100\n",
            "13/13 [==============================] - 0s 23ms/step - loss: 4.8782e-04 - val_loss: 0.0050\n",
            "Epoch 62/100\n",
            "13/13 [==============================] - 0s 20ms/step - loss: 4.9541e-04 - val_loss: 0.0016\n",
            "Epoch 63/100\n",
            "13/13 [==============================] - 0s 21ms/step - loss: 5.7475e-04 - val_loss: 0.0041\n",
            "Epoch 64/100\n",
            "13/13 [==============================] - 0s 22ms/step - loss: 4.4130e-04 - val_loss: 0.0047\n",
            "Epoch 65/100\n",
            "13/13 [==============================] - 0s 22ms/step - loss: 4.3076e-04 - val_loss: 0.0031\n",
            "Epoch 66/100\n",
            "13/13 [==============================] - 0s 21ms/step - loss: 4.8156e-04 - val_loss: 0.0031\n",
            "Epoch 67/100\n",
            "13/13 [==============================] - 0s 21ms/step - loss: 4.0610e-04 - val_loss: 0.0025\n",
            "Epoch 68/100\n",
            "13/13 [==============================] - 0s 22ms/step - loss: 4.0116e-04 - val_loss: 0.0041\n",
            "Epoch 69/100\n",
            "13/13 [==============================] - 0s 22ms/step - loss: 4.1562e-04 - val_loss: 0.0017\n",
            "Epoch 70/100\n",
            "13/13 [==============================] - 0s 21ms/step - loss: 4.2731e-04 - val_loss: 0.0057\n",
            "Epoch 71/100\n",
            "13/13 [==============================] - 0s 20ms/step - loss: 4.2420e-04 - val_loss: 0.0021\n",
            "Epoch 72/100\n",
            "13/13 [==============================] - 0s 21ms/step - loss: 4.7324e-04 - val_loss: 0.0030\n",
            "Epoch 73/100\n",
            "13/13 [==============================] - 0s 21ms/step - loss: 4.8919e-04 - val_loss: 0.0062\n",
            "Epoch 74/100\n",
            "13/13 [==============================] - 0s 21ms/step - loss: 4.5349e-04 - val_loss: 0.0026\n",
            "Epoch 75/100\n",
            "13/13 [==============================] - 0s 21ms/step - loss: 3.7339e-04 - val_loss: 0.0052\n",
            "Epoch 76/100\n",
            "13/13 [==============================] - 0s 21ms/step - loss: 3.7750e-04 - val_loss: 0.0032\n",
            "Epoch 77/100\n",
            "13/13 [==============================] - 0s 23ms/step - loss: 3.8062e-04 - val_loss: 0.0044\n",
            "Epoch 78/100\n",
            "13/13 [==============================] - 0s 20ms/step - loss: 3.6004e-04 - val_loss: 0.0026\n",
            "Epoch 79/100\n",
            "13/13 [==============================] - 0s 21ms/step - loss: 3.6110e-04 - val_loss: 0.0036\n",
            "Epoch 80/100\n",
            "13/13 [==============================] - 0s 20ms/step - loss: 3.9380e-04 - val_loss: 0.0014\n",
            "Epoch 81/100\n",
            "13/13 [==============================] - 0s 20ms/step - loss: 4.9361e-04 - val_loss: 0.0032\n",
            "Epoch 82/100\n",
            "13/13 [==============================] - 0s 21ms/step - loss: 4.1359e-04 - val_loss: 0.0047\n",
            "Epoch 83/100\n",
            "13/13 [==============================] - 0s 22ms/step - loss: 4.0426e-04 - val_loss: 0.0024\n",
            "Epoch 84/100\n",
            "13/13 [==============================] - 0s 21ms/step - loss: 3.7005e-04 - val_loss: 0.0026\n",
            "Epoch 85/100\n",
            "13/13 [==============================] - 0s 20ms/step - loss: 3.7562e-04 - val_loss: 0.0060\n",
            "Epoch 86/100\n",
            "13/13 [==============================] - 0s 20ms/step - loss: 3.4285e-04 - val_loss: 0.0024\n",
            "Epoch 87/100\n",
            "13/13 [==============================] - 0s 23ms/step - loss: 3.3271e-04 - val_loss: 0.0040\n",
            "Epoch 88/100\n",
            "13/13 [==============================] - 0s 21ms/step - loss: 3.3410e-04 - val_loss: 0.0030\n",
            "Epoch 89/100\n",
            "13/13 [==============================] - 0s 21ms/step - loss: 2.9949e-04 - val_loss: 0.0032\n",
            "Epoch 90/100\n",
            "13/13 [==============================] - 0s 22ms/step - loss: 3.4643e-04 - val_loss: 0.0030\n",
            "Epoch 91/100\n",
            "13/13 [==============================] - 0s 21ms/step - loss: 3.9337e-04 - val_loss: 0.0040\n",
            "Epoch 92/100\n",
            "13/13 [==============================] - 0s 20ms/step - loss: 3.2932e-04 - val_loss: 0.0021\n",
            "Epoch 93/100\n",
            "13/13 [==============================] - 1s 50ms/step - loss: 3.0905e-04 - val_loss: 0.0033\n",
            "Epoch 94/100\n",
            "13/13 [==============================] - 0s 22ms/step - loss: 3.0463e-04 - val_loss: 0.0020\n",
            "Epoch 95/100\n",
            "13/13 [==============================] - 0s 20ms/step - loss: 3.0915e-04 - val_loss: 0.0020\n",
            "Epoch 96/100\n",
            "13/13 [==============================] - 0s 21ms/step - loss: 2.9922e-04 - val_loss: 0.0028\n",
            "Epoch 97/100\n",
            "13/13 [==============================] - 0s 22ms/step - loss: 3.0575e-04 - val_loss: 0.0044\n",
            "Epoch 98/100\n",
            "13/13 [==============================] - 0s 20ms/step - loss: 3.3474e-04 - val_loss: 0.0018\n",
            "Epoch 99/100\n",
            "13/13 [==============================] - 0s 21ms/step - loss: 2.8292e-04 - val_loss: 0.0024\n",
            "Epoch 100/100\n",
            "13/13 [==============================] - 0s 22ms/step - loss: 3.2754e-04 - val_loss: 0.0018\n"
          ]
        },
        {
          "output_type": "execute_result",
          "data": {
            "text/plain": [
              "<keras.callbacks.History at 0x7f59c15a4090>"
            ]
          },
          "metadata": {},
          "execution_count": 30
        }
      ]
    },
    {
      "cell_type": "code",
      "source": [
        "model.save('lstm.h5')"
      ],
      "metadata": {
        "id": "GkymjsG3axvE"
      },
      "execution_count": null,
      "outputs": []
    },
    {
      "cell_type": "code",
      "source": [
        "loss = model.history.history['loss']\n",
        "plt.plot(loss)"
      ],
      "metadata": {
        "colab": {
          "base_uri": "https://localhost:8080/",
          "height": 282
        },
        "id": "0IU5z_CgOlH_",
        "outputId": "f614a07c-7ffb-436d-925a-05977d101d5d"
      },
      "execution_count": null,
      "outputs": [
        {
          "output_type": "execute_result",
          "data": {
            "text/plain": [
              "[<matplotlib.lines.Line2D at 0x7f5957f5c190>]"
            ]
          },
          "metadata": {},
          "execution_count": 32
        },
        {
          "output_type": "display_data",
          "data": {
            "text/plain": [
              "<Figure size 432x288 with 1 Axes>"
            ],
            "image/png": "[encoded data removed]"
          },
          "metadata": {
            "needs_background": "light"
          }
        }
      ]
    },
    {
      "cell_type": "markdown",
      "source": [
        "#Predicitng on train and test data"
      ],
      "metadata": {
        "id": "9vEDlJszRavX"
      }
    },
    {
      "cell_type": "code",
      "source": [
        "train_predict = model.predict(X_train)\n",
        "test_predict = model.predict(X_test)"
      ],
      "metadata": {
        "colab": {
          "base_uri": "https://localhost:8080/"
        },
        "id": "5cfZP5p3OwNy",
        "outputId": "eb0ceeb6-cc6a-4e64-dac9-d7bf8d596d56"
      },
      "execution_count": null,
      "outputs": [
        {
          "output_type": "stream",
          "name": "stdout",
          "text": [
            "25/25 [==============================] - 1s 9ms/step\n",
            "9/9 [==============================] - 0s 7ms/step\n"
          ]
        }
      ]
    },
    {
      "cell_type": "markdown",
      "source": [
        "#Inverse transform to get actual value"
      ],
      "metadata": {
        "id": "IzeiQGDuRdSS"
      }
    },
    {
      "cell_type": "code",
      "source": [
        "train_predict = normalizer.inverse_transform(train_predict)\n",
        "test_predict = normalizer.inverse_transform(test_predict)"
      ],
      "metadata": {
        "id": "rfnjOdLTOyGv"
      },
      "execution_count": null,
      "outputs": []
    },
    {
      "cell_type": "markdown",
      "source": [
        "#Comparing using visuals"
      ],
      "metadata": {
        "id": "3zl5kzVrRgym"
      }
    },
    {
      "cell_type": "code",
      "source": [
        "plt.plot(normalizer.inverse_transform(ds_scaled))\n",
        "plt.plot(train_predict)\n",
        "plt.plot(test_predict)"
      ],
      "metadata": {
        "colab": {
          "base_uri": "https://localhost:8080/",
          "height": 282
        },
        "id": "xaN7B50aOz3E",
        "outputId": "920edbe3-2ef9-4d48-eff7-d26a7a7b55e2"
      },
      "execution_count": null,
      "outputs": [
        {
          "output_type": "execute_result",
          "data": {
            "text/plain": [
              "[<matplotlib.lines.Line2D at 0x7f595746ef10>]"
            ]
          },
          "metadata": {},
          "execution_count": 35
        },
        {
          "output_type": "display_data",
          "data": {
            "text/plain": [
              "<Figure size 432x288 with 1 Axes>"
            ],
            "image/png": "[encoded data removed]"
          },
          "metadata": {
            "needs_background": "light"
          }
        }
      ]
    },
    {
      "cell_type": "code",
      "source": [
        "type(train_predict)"
      ],
      "metadata": {
        "colab": {
          "base_uri": "https://localhost:8080/"
        },
        "id": "m5tmUUUOO1Oo",
        "outputId": "1f01c792-2349-4620-a24a-2f82791ed051"
      },
      "execution_count": null,
      "outputs": [
        {
          "output_type": "execute_result",
          "data": {
            "text/plain": [
              "numpy.ndarray"
            ]
          },
          "metadata": {},
          "execution_count": 36
        }
      ]
    },
    {
      "cell_type": "code",
      "source": [
        "test = np.vstack((train_predict,test_predict))"
      ],
      "metadata": {
        "id": "2JUCUb8hO3Xf"
      },
      "execution_count": null,
      "outputs": []
    },
    {
      "cell_type": "code",
      "source": [
        "plt.plot(normalizer.inverse_transform(ds_scaled))\n",
        "plt.plot(test)"
      ],
      "metadata": {
        "colab": {
          "base_uri": "https://localhost:8080/",
          "height": 282
        },
        "id": "VRkL5fY2O4sm",
        "outputId": "b9b3004b-3223-42f1-fcf3-a2094faff207"
      },
      "execution_count": null,
      "outputs": [
        {
          "output_type": "execute_result",
          "data": {
            "text/plain": [
              "[<matplotlib.lines.Line2D at 0x7f595c610cd0>]"
            ]
          },
          "metadata": {},
          "execution_count": 38
        },
        {
          "output_type": "display_data",
          "data": {
            "text/plain": [
              "<Figure size 432x288 with 1 Axes>"
            ],
            "image/png": "[encoded data removed]"
          },
          "metadata": {
            "needs_background": "light"
          }
        }
      ]
    },
    {
      "cell_type": "code",
      "source": [
        "len(ds_test)"
      ],
      "metadata": {
        "colab": {
          "base_uri": "https://localhost:8080/"
        },
        "id": "IuN8pvp5O6K_",
        "outputId": "9270ce46-c2b3-44a9-9b3b-ead1f6d9c43e"
      },
      "execution_count": null,
      "outputs": [
        {
          "output_type": "execute_result",
          "data": {
            "text/plain": [
              "378"
            ]
          },
          "metadata": {},
          "execution_count": 39
        }
      ]
    },
    {
      "cell_type": "code",
      "source": [
        "fut_inp = ds_test[len(ds_test)-100:]"
      ],
      "metadata": {
        "id": "bPa-RQhnO8SD"
      },
      "execution_count": null,
      "outputs": []
    },
    {
      "cell_type": "code",
      "source": [
        "fut_inp = fut_inp.reshape(1,-1)"
      ],
      "metadata": {
        "id": "3PdAt6lZO-T2"
      },
      "execution_count": null,
      "outputs": []
    },
    {
      "cell_type": "code",
      "source": [
        "tmp_inp = list(fut_inp)"
      ],
      "metadata": {
        "id": "RRMGkdVRO_tD"
      },
      "execution_count": null,
      "outputs": []
    },
    {
      "cell_type": "code",
      "source": [
        "fut_inp.shape"
      ],
      "metadata": {
        "colab": {
          "base_uri": "https://localhost:8080/"
        },
        "id": "24fOD4bBPBsJ",
        "outputId": "290dc141-acfd-42ca-db40-ae5355c44cd3"
      },
      "execution_count": null,
      "outputs": [
        {
          "output_type": "execute_result",
          "data": {
            "text/plain": [
              "(1, 100)"
            ]
          },
          "metadata": {},
          "execution_count": 43
        }
      ]
    },
    {
      "cell_type": "markdown",
      "source": [
        "#Creating list of the last 100 data"
      ],
      "metadata": {
        "id": "rIVHxMz4Ry9n"
      }
    },
    {
      "cell_type": "code",
      "source": [
        "tmp_inp = tmp_inp[0].tolist()"
      ],
      "metadata": {
        "id": "OvWElFbrPC8n"
      },
      "execution_count": null,
      "outputs": []
    },
    {
      "cell_type": "code",
      "source": [
        "lst_output=[]\n",
        "n_steps=100\n",
        "i=0\n",
        "while(i<30):\n",
        "    \n",
        "    if(len(tmp_inp)>100):\n",
        "        fut_inp = np.array(tmp_inp[1:])\n",
        "        fut_inp=fut_inp.reshape(1,-1)\n",
        "        fut_inp = fut_inp.reshape((1, n_steps, 1))\n",
        "        yhat = model.predict(fut_inp, verbose=0)\n",
        "        tmp_inp.extend(yhat[0].tolist())\n",
        "        tmp_inp = tmp_inp[1:]\n",
        "        lst_output.extend(yhat.tolist())\n",
        "        i=i+1\n",
        "    else:\n",
        "        fut_inp = fut_inp.reshape((1, n_steps,1))\n",
        "        yhat = model.predict(fut_inp, verbose=0)\n",
        "        tmp_inp.extend(yhat[0].tolist())\n",
        "        lst_output.extend(yhat.tolist())\n",
        "        i=i+1\n",
        "    \n",
        "\n",
        "print(lst_output)"
      ],
      "metadata": {
        "colab": {
          "base_uri": "https://localhost:8080/"
        },
        "id": "p2LRdQp7PE5Z",
        "outputId": "2cf44379-7035-4f3e-bffa-b64526b6117d"
      },
      "execution_count": null,
      "outputs": [
        {
          "output_type": "stream",
          "name": "stdout",
          "text": [
            "[[0.7762758135795593], [0.7784868478775024], [0.7770037055015564], [0.7736013531684875], [0.7690016627311707], [0.7636585235595703], [0.7579512596130371], [0.7522051930427551], [0.7466855645179749], [0.7415925860404968], [0.7370638847351074], [0.7331799864768982], [0.7299724221229553], [0.7274332642555237], [0.7255236506462097], [0.7241836190223694], [0.7233389616012573], [0.7229087352752686], [0.7228102684020996], [0.7229639291763306], [0.7232961654663086], [0.7237419486045837], [0.7242458462715149], [0.7247625589370728], [0.7252569198608398], [0.7257029414176941], [0.7260840535163879], [0.7263898253440857], [0.7266169786453247], [0.7267664074897766]]\n"
          ]
        }
      ]
    },
    {
      "cell_type": "code",
      "source": [
        "len(ds_scaled)"
      ],
      "metadata": {
        "colab": {
          "base_uri": "https://localhost:8080/"
        },
        "id": "fxLk8CVuPJc6",
        "outputId": "0cd48ef1-d63d-4a0f-f748-dd9dc7844876"
      },
      "execution_count": null,
      "outputs": [
        {
          "output_type": "execute_result",
          "data": {
            "text/plain": [
              "1258"
            ]
          },
          "metadata": {},
          "execution_count": 46
        }
      ]
    },
    {
      "cell_type": "code",
      "source": [
        "plot_new=np.arange(1,101)\n",
        "plot_pred=np.arange(101,131)"
      ],
      "metadata": {
        "id": "cgQqQCjIPL8P"
      },
      "execution_count": null,
      "outputs": []
    },
    {
      "cell_type": "code",
      "source": [
        "plt.plot(plot_new, normalizer.inverse_transform(ds_scaled[len(ds_scaled)-100:]))\n",
        "plt.plot(plot_pred, normalizer.inverse_transform(lst_output))"
      ],
      "metadata": {
        "colab": {
          "base_uri": "https://localhost:8080/",
          "height": 283
        },
        "id": "osBzdUs2PNb_",
        "outputId": "ff378ad0-075f-4f53-d703-ac0336d4df9d"
      },
      "execution_count": null,
      "outputs": [
        {
          "output_type": "execute_result",
          "data": {
            "text/plain": [
              "[<matplotlib.lines.Line2D at 0x7f5957cc3590>]"
            ]
          },
          "metadata": {},
          "execution_count": 48
        },
        {
          "output_type": "display_data",
          "data": {
            "text/plain": [
              "<Figure size 432x288 with 1 Axes>"
            ],
            "image/png": "[encoded data removed]"
          },
          "metadata": {
            "needs_background": "light"
          }
        }
      ]
    },
    {
      "cell_type": "code",
      "source": [
        "ds_new = ds_scaled.tolist()"
      ],
      "metadata": {
        "id": "nkHNwXpcPOt-"
      },
      "execution_count": null,
      "outputs": []
    },
    {
      "cell_type": "code",
      "source": [
        "len(ds_new)"
      ],
      "metadata": {
        "colab": {
          "base_uri": "https://localhost:8080/"
        },
        "id": "cE9saCR-Payn",
        "outputId": "43673ad7-6fce-45ba-b08e-2171fff800ff"
      },
      "execution_count": null,
      "outputs": [
        {
          "output_type": "execute_result",
          "data": {
            "text/plain": [
              "1258"
            ]
          },
          "metadata": {},
          "execution_count": 50
        }
      ]
    },
    {
      "cell_type": "code",
      "source": [
        "ds_new.extend(lst_output)\n",
        "plt.plot(ds_new[1200:])"
      ],
      "metadata": {
        "colab": {
          "base_uri": "https://localhost:8080/",
          "height": 282
        },
        "id": "VSMK1eH0PcfR",
        "outputId": "d691c3ac-3a27-40cf-9907-d2d7d8f2919e"
      },
      "execution_count": null,
      "outputs": [
        {
          "output_type": "execute_result",
          "data": {
            "text/plain": [
              "[<matplotlib.lines.Line2D at 0x7f5957357390>]"
            ]
          },
          "metadata": {},
          "execution_count": 51
        },
        {
          "output_type": "display_data",
          "data": {
            "text/plain": [
              "<Figure size 432x288 with 1 Axes>"
            ],
            "image/png": "[encoded data removed]"
          },
          "metadata": {
            "needs_background": "light"
          }
        }
      ]
    },
    {
      "cell_type": "code",
      "source": [
        "final_graph = normalizer.inverse_transform(ds_new).tolist()"
      ],
      "metadata": {
        "id": "7X2WBv23PeVq"
      },
      "execution_count": null,
      "outputs": []
    },
    {
      "cell_type": "code",
      "source": [
        "plt.plot(final_graph,)\n",
        "plt.ylabel(\"Price\")\n",
        "plt.xlabel(\"Time\")\n",
        "plt.title(\"{0} prediction of next month open\".format(stox_symb))\n",
        "plt.axhline(y=final_graph[len(final_graph)-1], color = 'red', linestyle = ':', label = 'NEXT 30D: {0}'.format(round(float(*final_graph[len(final_graph)-1]),2)))\n",
        "plt.legend()"
      ],
      "metadata": {
        "colab": {
          "base_uri": "https://localhost:8080/",
          "height": 312
        },
        "id": "iPOnNN8ZPhSb",
        "outputId": "88220ba5-99c2-404b-cba2-d0e3ecec5f45"
      },
      "execution_count": null,
      "outputs": [
        {
          "output_type": "execute_result",
          "data": {
            "text/plain": [
              "<matplotlib.legend.Legend at 0x7f59573af390>"
            ]
          },
          "metadata": {},
          "execution_count": 53
        },
        {
          "output_type": "display_data",
          "data": {
            "text/plain": [
              "<Figure size 432x288 with 1 Axes>"
            ],
            "image/png": "[encoded data removed]"
          },
          "metadata": {
            "needs_background": "light"
          }
        }
      ]
    }
  ]
}